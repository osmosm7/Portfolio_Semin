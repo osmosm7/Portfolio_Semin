{
 "cells": [
  {
   "cell_type": "code",
   "execution_count": 1,
   "metadata": {
    "nbpresent": {
     "id": "0421d9fc-70aa-417c-b1de-80ec20f9343d"
    }
   },
   "outputs": [],
   "source": [
    "import pandas as pd\n",
    "import numpy as np\n",
    "from sklearn.decomposition import PCA\n",
    "import warnings\n",
    "warnings.filterwarnings('ignore')\n",
    "import lightgbm as lgb\n",
    "from sklearn.ensemble import RandomForestClassifier\n",
    "import math \n",
    "\n",
    "from sklearn.ensemble import IsolationForest"
   ]
  },
  {
   "cell_type": "code",
   "execution_count": 2,
   "metadata": {
    "nbpresent": {
     "id": "2fb89471-8061-4e67-bbee-cc61ae91915e"
    }
   },
   "outputs": [],
   "source": [
    "train = pd.read_csv('train.csv', index_col=0)\n",
    "test = pd.read_csv('test.csv', index_col=0)\n",
    "sample_submission = pd.read_csv('sample_submission.csv', index_col=0)"
   ]
  },
  {
   "cell_type": "markdown",
   "metadata": {
    "nbpresent": {
     "id": "44f5c45e-c676-4a19-a80c-c15287dcd4d8"
    }
   },
   "source": [
    "## Feature engineering"
   ]
  },
  {
   "cell_type": "markdown",
   "metadata": {},
   "source": [
    "##### FiberID 별로 관측된 천체 타입의 종류가 다름을 인지하고 이에 따른 Typenum 변수 생성\n",
    "##### 특히 640? 이후로는 모든 변수가 QSO임을 확인하고 이를 제외하고 train하기로 마음먹음"
   ]
  },
  {
   "cell_type": "code",
   "execution_count": 3,
   "metadata": {
    "nbpresent": {
     "id": "2b24a95a-76ce-4ac4-9d84-4f71d064ab71"
    }
   },
   "outputs": [],
   "source": [
    "column_number = {}\n",
    "for i, column in enumerate(sample_submission.columns):\n",
    "    column_number[column] = i\n",
    "    \n",
    "def to_number(x, dic):\n",
    "    return dic[x]\n",
    "\n",
    "train['type_num'] = train['type'].apply(lambda x: to_number(x, column_number))\n",
    "\n"
   ]
  },
  {
   "cell_type": "code",
   "execution_count": 4,
   "metadata": {
    "nbpresent": {
     "id": "ffb30635-109c-4e01-9a1c-f957339bdbad"
    }
   },
   "outputs": [],
   "source": [
    "# Make Fiber tpye\n",
    "fiber = []\n",
    "label_dict = {}\n",
    "\n",
    "for i in list(set(train['fiberID'])):\n",
    "    train2 = train[train['fiberID']==i]\n",
    "    #test2 = test[test['fiberID']==i]\n",
    "    #idx2 = test2.index\n",
    "    idx1 = train2.index\n",
    "    #print(set(train.loc[idx1]['type_num']))\n",
    "    if tuple(set(train.loc[idx1]['type_num'])) not in fiber:\n",
    "        fiber.append(tuple(set(train.loc[idx1]['type_num'])))\n",
    "    label_dict[i] = list(set(train.loc[idx1]['type_num']))\n",
    "    \n",
    "    \n",
    "fiber_type = {}\n",
    "for k in range(len(fiber)):\n",
    "    fiber_type[fiber[k]] = k\n",
    "    \n",
    "fiber_dict = {}  \n",
    "for j in list(set(train['fiberID'])):\n",
    "    train2 = train[train['fiberID']==j]\n",
    "    #test2 = test[test['fiberID']==i]\n",
    "    idx1 = train2.index\n",
    "    \n",
    "    #print(set(train.loc[idx1]['type_num']))\n",
    "    fiber_dict[j] = fiber_type[tuple(set(train.loc[idx1]['type_num']))]\n",
    "\n"
   ]
  },
  {
   "cell_type": "code",
   "execution_count": 5,
   "metadata": {
    "nbpresent": {
     "id": "83cce1f9-77ca-440d-86ec-3b23c7302cb7"
    }
   },
   "outputs": [],
   "source": [
    "ntrain = train.shape[0]\n",
    "ntest = test.shape[0]\n",
    "all_data = train.append(test)"
   ]
  },
  {
   "cell_type": "code",
   "execution_count": 6,
   "metadata": {
    "nbpresent": {
     "id": "d1ccf115-659d-45d4-a612-b69b7fc646a3"
    }
   },
   "outputs": [],
   "source": [
    "all_data['fiberType'] = all_data['fiberID']\n",
    "Fill_Type = lambda x: fiber_dict[x]\n",
    "all_data['fiberType'] = all_data['fiberType'].apply(Fill_Type)"
   ]
  },
  {
   "cell_type": "markdown",
   "metadata": {
    "nbpresent": {
     "id": "b566b17a-b36f-4fae-bccd-5b1e7d899c61"
    }
   },
   "source": [
    "측정 별 변수"
   ]
  },
  {
   "cell_type": "code",
   "execution_count": 7,
   "metadata": {
    "nbpresent": {
     "id": "2ef98fdb-7bf5-4763-866d-ae076fa8f951"
    }
   },
   "outputs": [],
   "source": [
    "psfMags = ['psfMag_u','psfMag_g','psfMag_r','psfMag_i','psfMag_z']\n",
    "fiberMags = ['fiberMag_u','fiberMag_g','fiberMag_r','fiberMag_i','fiberMag_z']\n",
    "petroMags = ['petroMag_u','petroMag_g','petroMag_r','petroMag_i','petroMag_z']\n",
    "modelMags = ['modelMag_u','modelMag_g','modelMag_r','modelMag_i','modelMag_z']"
   ]
  },
  {
   "cell_type": "markdown",
   "metadata": {
    "nbpresent": {
     "id": "cce8932c-b7d2-44e9-adac-b646c4148e40"
    }
   },
   "source": [
    "파장 별 변수"
   ]
  },
  {
   "cell_type": "code",
   "execution_count": 8,
   "metadata": {
    "nbpresent": {
     "id": "cd4e1e08-1d78-4b16-98e8-913426a51259"
    }
   },
   "outputs": [],
   "source": [
    "u_values = ['psfMag_u','fiberMag_u','petroMag_u','modelMag_u']\n",
    "g_values = ['psfMag_g','fiberMag_g','petroMag_g','modelMag_g']\n",
    "r_values = ['psfMag_r','fiberMag_r','petroMag_r','modelMag_r']\n",
    "i_values = ['psfMag_i','fiberMag_i','petroMag_i','modelMag_i']\n",
    "z_values = ['psfMag_z','fiberMag_z','petroMag_z','modelMag_z']"
   ]
  },
  {
   "cell_type": "markdown",
   "metadata": {},
   "source": [
    "## 파장 변수 Engineering\n",
    "##### 강경수님의 토론 글을 읽고 구글링을 통해 u-r,u-g,g-r,g-z,g-i 등의 변수가  천체 분류에 효과적이라는 사실을 알아냄  50위권>10위권 상승\n",
    "\n",
    "\n",
    "##### 관련 자료 \n",
    "##### http://dspace.ewha.ac.kr/handle/2015.oak/211793\n",
    "##### http://www.koreascience.or.kr/article/CFKO201023859828644.pub\n",
    "\n",
    "##### *** 기타 변수들은 임의로 만들어봄"
   ]
  },
  {
   "cell_type": "code",
   "execution_count": 9,
   "metadata": {
    "nbpresent": {
     "id": "98925149-20ca-4d21-8104-dc6e5fbc1b87"
    }
   },
   "outputs": [],
   "source": [
    "u_r = ['psfMag_u-r', 'fiberMag_u-r','petroMag_u-r','modelMag_u-r']\n",
    "u_g = ['psfMag_u-g','fiberMag_u-g',  'petroMag_u-g','modelMag_u-g']\n",
    "g_r = ['psfMag_g-r', 'fiberMag_g-r',  'petroMag_g-r', 'modelMag_g-r']      \n",
    "g_z = ['psfMag_g-z','fiberMag_g-z', 'petroMag_g-z','modelMag_g-z'] \n",
    "g_i = ['psfMag_g-i','fiberMag_g-i','petroMag_g-i', 'modelMag_g-i']\n",
    "\n",
    "u_i = ['psfMag_u-i','fiberMag_u-i','petroMag_u-i', 'modelMag_u-i']\n",
    "u_z = ['psfMag_u-z','fiberMag_u-z','petroMag_u-z', 'modelMag_u-z']\n",
    "r_i = ['psfMag_r-i','fiberMag_r-i','petroMag_r-i', 'modelMag_r-i']\n",
    "r_z = ['psfMag_r-z','fiberMag_r-z','petroMag_r-z', 'modelMag_r-z']\n",
    "i_z = ['psfMag_i-z','fiberMag_i-z','petroMag_i-z', 'modelMag_i-z']"
   ]
  },
  {
   "cell_type": "code",
   "execution_count": 10,
   "metadata": {
    "nbpresent": {
     "id": "e7b91204-c9c7-4e0f-a025-8f5b27671b02"
    }
   },
   "outputs": [],
   "source": [
    "sumur = ['psfMag_u+r', 'fiberMag_u+r','petroMag_u+r','modelMag_u+r']\n",
    "sumug = ['psfMag_u+g','fiberMag_u+g',  'petroMag_u+g','modelMag_u+g']\n",
    "sumgr = ['psfMag_g+r', 'fiberMag_g+r',  'petroMag_g+r', 'modelMag_g+r']      \n",
    "sumgz = ['psfMag_g+z','fiberMag_g+z', 'petroMag_g+z','modelMag_g+z'] \n",
    "sumgi = ['psfMag_g+i','fiberMag_g+i','petroMag_g+i', 'modelMag_g+i']\n",
    "\n",
    "sumui = ['psfMag_u+i','fiberMag_u+i','petroMag_u+i', 'modelMag_u+i']\n",
    "sumuz = ['psfMag_u+z','fiberMag_u+z','petroMag_u+z', 'modelMag_u+z']\n",
    "sumri = ['psfMag_r+i','fiberMag_r+i','petroMag_r+i', 'modelMag_r+i']\n",
    "sumrz = ['psfMag_r+z','fiberMag_r+z','petroMag_r+z', 'modelMag_r+z']\n",
    "sumiz = ['psfMag_i+z','fiberMag_i+z','petroMag_i+z', 'modelMag_i+z']"
   ]
  },
  {
   "cell_type": "code",
   "execution_count": 11,
   "metadata": {
    "nbpresent": {
     "id": "670f88e7-ce30-4b02-9822-963f86b191d4"
    }
   },
   "outputs": [],
   "source": [
    "cols = all_data.columns.drop(['type','type_num','fiberType','fiberID'])\n",
    "pca = PCA(n_components = 2)\n",
    "\n",
    "x = all_data[cols].values\n",
    "principalComponents = pca.fit_transform(x)\n",
    "principalDf = pd.DataFrame(data = principalComponents\n",
    "             , columns = ['all_pca1','all_pca2'])\n",
    "all_data = pd.concat([all_data,principalDf],axis =1)"
   ]
  },
  {
   "cell_type": "code",
   "execution_count": 12,
   "metadata": {
    "nbpresent": {
     "id": "7fb71da0-5a03-4bae-8fc3-b8bb53a105ed"
    }
   },
   "outputs": [],
   "source": [
    "for i in range(4):\n",
    "    all_data[str(u_values[i])+'-'+'r'] = all_data[u_values[i]]-all_data[r_values[i]]\n",
    "    all_data[str(u_values[i])+'-'+'g'] = all_data[u_values[i]]-all_data[g_values[i]]\n",
    "    all_data[str(g_values[i])+'-'+'r'] = all_data[g_values[i]]-all_data[r_values[i]]\n",
    "    all_data[str(g_values[i])+'-'+'z'] = all_data[g_values[i]]-all_data[z_values[i]]\n",
    "    all_data[str(g_values[i])+'-'+'i'] = all_data[g_values[i]]-all_data[i_values[i]]\n",
    "    \n",
    "    all_data[str(u_values[i])+'-'+'i'] = all_data[u_values[i]]-all_data[i_values[i]]\n",
    "    all_data[str(u_values[i])+'-'+'z'] = all_data[u_values[i]]-all_data[z_values[i]]\n",
    "    all_data[str(r_values[i])+'-'+'z'] = all_data[r_values[i]]-all_data[z_values[i]]\n",
    "    all_data[str(r_values[i])+'-'+'i'] = all_data[r_values[i]]-all_data[i_values[i]]\n",
    "    all_data[str(i_values[i])+'-'+'z'] = all_data[i_values[i]]-all_data[z_values[i]]\n",
    "        \n",
    "        \n",
    "        \n",
    "    all_data[str(u_values[i])+'+'+'r'] = all_data[u_values[i]]+all_data[r_values[i]]\n",
    "    all_data[str(u_values[i])+'+'+'g'] = all_data[u_values[i]]+all_data[g_values[i]]\n",
    "    all_data[str(g_values[i])+'+'+'r'] = all_data[g_values[i]]+all_data[r_values[i]]\n",
    "    all_data[str(g_values[i])+'+'+'z'] = all_data[g_values[i]]+all_data[z_values[i]]\n",
    "    all_data[str(g_values[i])+'+'+'i'] = all_data[g_values[i]]+all_data[i_values[i]]\n",
    "    \n",
    "    all_data[str(u_values[i])+'+'+'i'] = all_data[u_values[i]]+all_data[i_values[i]]\n",
    "    all_data[str(u_values[i])+'+'+'z'] = all_data[u_values[i]]+all_data[z_values[i]]\n",
    "    all_data[str(r_values[i])+'+'+'z'] = all_data[r_values[i]]+all_data[z_values[i]]\n",
    "    all_data[str(r_values[i])+'+'+'i'] = all_data[r_values[i]]+all_data[i_values[i]]\n",
    "    all_data[str(i_values[i])+'+'+'z'] = all_data[i_values[i]]+all_data[z_values[i]]"
   ]
  },
  {
   "cell_type": "code",
   "execution_count": 13,
   "metadata": {
    "nbpresent": {
     "id": "ae19a2ea-4423-4c71-8777-97e23102ed6f"
    }
   },
   "outputs": [],
   "source": [
    "val_groups = [psfMags,fiberMags,petroMags,modelMags,u_values,g_values,r_values,i_values,z_values,u_r,u_g,g_r,g_z,g_i,u_i,u_z,r_i,r_z,i_z,sumur, sumug, sumgr,  sumgz, sumgi, sumui, sumuz, sumri ,sumrz ,sumiz]\n",
    "group_names = ['psf','fiber','petro','model','u','g','r','i','z','u-r','u-g','g-r','g-z','g-i','u-i','u-z','r-i','r-z','i-z','sumur', 'sumug', 'sumgr',  'sumgz', 'sumgi', 'sumui', 'sumuz', 'sumri' ,'sumrz' ,'sumiz']"
   ]
  },
  {
   "cell_type": "code",
   "execution_count": 14,
   "metadata": {
    "nbpresent": {
     "id": "05711bae-00da-4004-a3b1-992fa450993e"
    },
    "scrolled": true
   },
   "outputs": [],
   "source": [
    "pca = PCA(n_components = 3)\n",
    "\n",
    "for i in range(len(val_groups)):\n",
    "    \n",
    "    all_data[str(group_names[i])+'_mean'] = all_data[val_groups[i]].mean(axis =1)\n",
    "    all_data[str(group_names[i])+'_std'] = all_data[val_groups[i]].std(axis =1)\n",
    "\n",
    "    x = all_data[val_groups[i]].values\n",
    "    principalComponents = pca.fit_transform(x)\n",
    "    principalDf = pd.DataFrame(data = principalComponents\n",
    "             , columns = [str(group_names[i]) + '_pca1', str(group_names[i]) + '_pca2',str(group_names[i]) + '_pca3'])\n",
    "    #print(group_names[i])\n",
    "    #print('explained variance ratio :', pca.explained_variance_ratio_)\n",
    "\n",
    "    \n",
    "    \n",
    "    all_data = pd.concat([all_data,principalDf],axis =1)"
   ]
  },
  {
   "cell_type": "markdown",
   "metadata": {},
   "source": [
    "#### 트리 구조 특성상 더 잘 학습시키기 위해 45 Rotation한 변수 생성\n",
    "\n",
    "##### ***행렬 곱을 이용해 더 효과적인 코드를 짰지만 무슨 이유인지 성능이 좋지 않아 이 방법을 씀"
   ]
  },
  {
   "cell_type": "code",
   "execution_count": 16,
   "metadata": {
    "nbpresent": {
     "id": "2a015435-2bac-465f-b7de-84be35836100"
    }
   },
   "outputs": [],
   "source": [
    "def RotateXY(x,y,xc=0,yc=0,angle=0,units=\"DEGREES\"):  \n",
    "    \"\"\"Rotate an xy cooordinate about a specified origin  \n",
    "  \n",
    "    x,y      xy coordinates  \n",
    "    xc,yc   center of rotation  \n",
    "    angle   angle  \n",
    "    units    \"DEGREES\" (default) or \"RADIANS\"  \n",
    "    \"\"\"  \n",
    "    import math  \n",
    "    x = x - xc  \n",
    "    y = y - yc  \n",
    "    if units == \"DEGREES\":  \n",
    "        angle = math.radians(angle)  \n",
    "    xr = (x * math.cos(angle)) - (y * math.sin(angle)) + xc  \n",
    "    yr = (x * math.sin(angle)) + (y * math.cos(angle)) + yc  \n",
    "    return xr, yr  "
   ]
  },
  {
   "cell_type": "code",
   "execution_count": 17,
   "metadata": {
    "nbpresent": {
     "id": "ab599542-7bd9-471a-bede-44a9ae0ac7d6"
    },
    "scrolled": true
   },
   "outputs": [
    {
     "name": "stdout",
     "output_type": "stream",
     "text": [
      "1\n",
      "2\n",
      "0:01:05.265786\n",
      "3\n"
     ]
    }
   ],
   "source": [
    "import datetime\n",
    "for i in range(4):\n",
    "    start = datetime.datetime.now()\n",
    "    u_g_1 = []\n",
    "    u_g_2 = []\n",
    "    g_r_1 = []\n",
    "    g_r_2 = []\n",
    "    g_z_1 = []\n",
    "    g_z_2 = []\n",
    "    g_i_1 = []\n",
    "    g_i_2 = []\n",
    "    r_i_1 = []\n",
    "    r_i_2 = []\n",
    "        \n",
    "    for k in range(len(all_data)):\n",
    "        \n",
    "        Rotate = RotateXY(all_data[str(u_values[i])+'-'+'g'].loc[k],all_data[str(r_values[i])].loc[k],xc=0,yc=0,angle=45,units=\"DEGREES\")\n",
    "        u_g_1.append(Rotate[0])\n",
    "        u_g_2.append(Rotate[1])\n",
    "        \n",
    "        Rotate = RotateXY(all_data[str(g_values[i])+'-'+'r'].loc[k],all_data[str(r_values[i])].loc[k],xc=0,yc=0,angle=45,units=\"DEGREES\")\n",
    "        g_r_1.append(Rotate[0])\n",
    "        g_r_2.append(Rotate[1])\n",
    "        \n",
    "        \n",
    "        Rotate = RotateXY(all_data[str(g_values[i])+'-'+'z'].loc[k],all_data[str(r_values[i])].loc[k],xc=0,yc=0,angle=45,units=\"DEGREES\")\n",
    "        g_z_1.append(Rotate[0])\n",
    "        g_z_2.append(Rotate[1])\n",
    "        \n",
    "        Rotate = RotateXY(all_data[str(g_values[i])+'-'+'i'].loc[k],all_data[str(r_values[i])].loc[k],xc=0,yc=0,angle=45,units=\"DEGREES\")\n",
    "        g_i_1.append(Rotate[0])\n",
    "        g_i_2.append(Rotate[1])\n",
    "        \n",
    "        Rotate = RotateXY(all_data[str(r_values[i])+'-'+'i'] .loc[k],all_data[str(r_values[i])].loc[k],xc=0,yc=0,angle=45,units=\"DEGREES\")\n",
    "        r_i_1.append(Rotate[0])\n",
    "        r_i_2.append(Rotate[1])   \n",
    "        \n",
    "    ug1= pd.DataFrame(data = u_g_1\n",
    "             , columns = [str(u_values[i])+'-'+'g'+'r451'])\n",
    "    ug2= pd.DataFrame(data = u_g_2\n",
    "             , columns = [str(u_values[i])+'-'+'g'+'r452'])\n",
    "       \n",
    "    gr1= pd.DataFrame(data = g_r_1\n",
    "             , columns = [str(g_values[i])+'-'+'r'+'r451'])\n",
    "    gr2= pd.DataFrame(data = g_r_2\n",
    "             , columns = [str(g_values[i])+'-'+'r'+'r452'])\n",
    "        \n",
    "    gz1= pd.DataFrame(data = g_z_1\n",
    "             , columns = [str(g_values[i])+'-'+'z'+'r451'])\n",
    "    gz2= pd.DataFrame(data = g_z_2\n",
    "             , columns = [str(g_values[i])+'-'+'z'+'r452'])\n",
    "        \n",
    "        \n",
    "    gi1= pd.DataFrame(data = g_i_1\n",
    "             , columns = [str(g_values[i])+'-'+'i'+'r451'])\n",
    "    gi2= pd.DataFrame(data = g_i_2\n",
    "             , columns = [str(g_values[i])+'-'+'i'+'r452'])   \n",
    "    \n",
    "    ri1= pd.DataFrame(data = r_i_1\n",
    "             , columns = [str(r_values[i])+'-'+'i'+'r451'])\n",
    "    ri2= pd.DataFrame(data = r_i_2\n",
    "             , columns = [str(r_values[i])+'-'+'i'+'r452'])\n",
    "             \n",
    "    \n",
    "    all_data = pd.concat([all_data,ug1,ug2,gr1,gr2,gz1,gz2,gi1,gi1,ri1,ri2],axis =1)\n",
    "    runtime = datetime.datetime.now() - start\n",
    "    break    "
   ]
  },
  {
   "cell_type": "code",
   "execution_count": 19,
   "metadata": {
    "nbpresent": {
     "id": "3652690d-dc5c-491d-b4a0-8314a00e8e90"
    }
   },
   "outputs": [],
   "source": [
    "train= all_data[:ntrain]\n",
    "test= all_data[ntrain:]\n"
   ]
  },
  {
   "cell_type": "markdown",
   "metadata": {
    "nbpresent": {
     "id": "b6c88d02-ef7b-43b3-81a6-fc499d8094fb"
    }
   },
   "source": [
    "## Train set에서 FiberType ==34인것 제외\n",
    "\n",
    "##### output이 모두 QSO인 FiberID들은 train에서 제외하고 추후에 QSO 확률 1,나머지 0으로 채워넣음"
   ]
  },
  {
   "cell_type": "code",
   "execution_count": 20,
   "metadata": {
    "nbpresent": {
     "id": "87f5499a-cd5d-4d63-a0d3-154a85641be6"
    }
   },
   "outputs": [],
   "source": [
    "y = train['type_num']\n",
    "train = train.drop(columns=['type','type_num'], axis=1)\n",
    "train1 = train[train['fiberType'] != 34]\n",
    "train2 = train[train['fiberType'] == 34]\n",
    "train1_idx = train1.index \n",
    "train2_idx = train2.index\n",
    "y1 = y.loc[train1_idx]\n",
    "\n",
    "test = test.drop(['type','type_num'], axis=1)\n",
    "test1 = test[test['fiberType'] != 34]\n",
    "test2 = test[test['fiberType'] == 34]\n",
    "test1_idx = test1.index\n",
    "test2_idx = test2.index"
   ]
  },
  {
   "cell_type": "markdown",
   "metadata": {
    "nbpresent": {
     "id": "f210c1a1-e399-485d-9948-21afd866c920"
    }
   },
   "source": [
    "## 학습 및 예측 (cv = 20)"
   ]
  },
  {
   "cell_type": "code",
   "execution_count": null,
   "metadata": {
    "collapsed": true,
    "nbpresent": {
     "id": "0a084e0e-348f-457a-81c1-8346906439d0"
    }
   },
   "outputs": [
    {
     "name": "stdout",
     "output_type": "stream",
     "text": [
      "Training until validation scores don't improve for 50 rounds\n",
      "[100]\ttraining's multi_logloss: 1.05194\tvalid_1's multi_logloss: 1.0832\n",
      "[200]\ttraining's multi_logloss: 0.612898\tvalid_1's multi_logloss: 0.662993\n",
      "[300]\ttraining's multi_logloss: 0.431397\tvalid_1's multi_logloss: 0.496419\n",
      "[400]\ttraining's multi_logloss: 0.346796\tvalid_1's multi_logloss: 0.423711\n",
      "[500]\ttraining's multi_logloss: 0.302346\tvalid_1's multi_logloss: 0.389637\n",
      "[600]\ttraining's multi_logloss: 0.275687\tvalid_1's multi_logloss: 0.372187\n",
      "[700]\ttraining's multi_logloss: 0.257368\tvalid_1's multi_logloss: 0.362578\n",
      "[800]\ttraining's multi_logloss: 0.243561\tvalid_1's multi_logloss: 0.357024\n",
      "[900]\ttraining's multi_logloss: 0.232336\tvalid_1's multi_logloss: 0.353606\n",
      "[1000]\ttraining's multi_logloss: 0.223131\tvalid_1's multi_logloss: 0.351478\n",
      "[1100]\ttraining's multi_logloss: 0.214751\tvalid_1's multi_logloss: 0.350107\n",
      "[1200]\ttraining's multi_logloss: 0.206839\tvalid_1's multi_logloss: 0.349227\n",
      "[1300]\ttraining's multi_logloss: 0.199153\tvalid_1's multi_logloss: 0.348677\n",
      "[1400]\ttraining's multi_logloss: 0.191931\tvalid_1's multi_logloss: 0.348444\n",
      "Early stopping, best iteration is:\n",
      "[1373]\ttraining's multi_logloss: 0.193779\tvalid_1's multi_logloss: 0.348431\n",
      "Training until validation scores don't improve for 50 rounds\n",
      "[100]\ttraining's multi_logloss: 1.0518\tvalid_1's multi_logloss: 1.08558\n",
      "[200]\ttraining's multi_logloss: 0.612839\tvalid_1's multi_logloss: 0.664195\n",
      "[300]\ttraining's multi_logloss: 0.431427\tvalid_1's multi_logloss: 0.496698\n",
      "[400]\ttraining's multi_logloss: 0.347007\tvalid_1's multi_logloss: 0.423772\n",
      "[500]\ttraining's multi_logloss: 0.302615\tvalid_1's multi_logloss: 0.389716\n",
      "[600]\ttraining's multi_logloss: 0.275923\tvalid_1's multi_logloss: 0.372549\n",
      "[700]\ttraining's multi_logloss: 0.257446\tvalid_1's multi_logloss: 0.363124\n",
      "[800]\ttraining's multi_logloss: 0.243603\tvalid_1's multi_logloss: 0.357722\n",
      "[900]\ttraining's multi_logloss: 0.232279\tvalid_1's multi_logloss: 0.354342\n",
      "[1000]\ttraining's multi_logloss: 0.223233\tvalid_1's multi_logloss: 0.352186\n",
      "[1100]\ttraining's multi_logloss: 0.215064\tvalid_1's multi_logloss: 0.350863\n",
      "[1200]\ttraining's multi_logloss: 0.207141\tvalid_1's multi_logloss: 0.349905\n",
      "[1300]\ttraining's multi_logloss: 0.19975\tvalid_1's multi_logloss: 0.349256\n",
      "[1400]\ttraining's multi_logloss: 0.192612\tvalid_1's multi_logloss: 0.348806\n",
      "[1500]\ttraining's multi_logloss: 0.185762\tvalid_1's multi_logloss: 0.348683\n",
      "Early stopping, best iteration is:\n",
      "[1541]\ttraining's multi_logloss: 0.183025\tvalid_1's multi_logloss: 0.348604\n",
      "Training until validation scores don't improve for 50 rounds\n",
      "[100]\ttraining's multi_logloss: 1.05272\tvalid_1's multi_logloss: 1.08204\n",
      "[200]\ttraining's multi_logloss: 0.613317\tvalid_1's multi_logloss: 0.66064\n",
      "[300]\ttraining's multi_logloss: 0.431818\tvalid_1's multi_logloss: 0.493365\n",
      "[400]\ttraining's multi_logloss: 0.347328\tvalid_1's multi_logloss: 0.420665\n",
      "[500]\ttraining's multi_logloss: 0.302809\tvalid_1's multi_logloss: 0.386488\n",
      "[600]\ttraining's multi_logloss: 0.2761\tvalid_1's multi_logloss: 0.369336\n",
      "[700]\ttraining's multi_logloss: 0.257703\tvalid_1's multi_logloss: 0.359821\n",
      "[800]\ttraining's multi_logloss: 0.243776\tvalid_1's multi_logloss: 0.354286\n",
      "[900]\ttraining's multi_logloss: 0.232688\tvalid_1's multi_logloss: 0.350752\n",
      "[1000]\ttraining's multi_logloss: 0.223284\tvalid_1's multi_logloss: 0.348632\n",
      "[1100]\ttraining's multi_logloss: 0.215028\tvalid_1's multi_logloss: 0.347171\n",
      "[1200]\ttraining's multi_logloss: 0.207106\tvalid_1's multi_logloss: 0.346073\n",
      "[1300]\ttraining's multi_logloss: 0.199723\tvalid_1's multi_logloss: 0.345394\n",
      "[1400]\ttraining's multi_logloss: 0.192499\tvalid_1's multi_logloss: 0.345039\n",
      "[1500]\ttraining's multi_logloss: 0.185394\tvalid_1's multi_logloss: 0.34488\n",
      "Early stopping, best iteration is:\n",
      "[1511]\ttraining's multi_logloss: 0.184651\tvalid_1's multi_logloss: 0.344858\n",
      "Training until validation scores don't improve for 50 rounds\n",
      "[100]\ttraining's multi_logloss: 1.05209\tvalid_1's multi_logloss: 1.08293\n",
      "[200]\ttraining's multi_logloss: 0.613224\tvalid_1's multi_logloss: 0.661556\n",
      "[300]\ttraining's multi_logloss: 0.431927\tvalid_1's multi_logloss: 0.493968\n",
      "[400]\ttraining's multi_logloss: 0.347314\tvalid_1's multi_logloss: 0.420607\n",
      "[500]\ttraining's multi_logloss: 0.302935\tvalid_1's multi_logloss: 0.386054\n",
      "[600]\ttraining's multi_logloss: 0.27638\tvalid_1's multi_logloss: 0.368608\n",
      "[700]\ttraining's multi_logloss: 0.258175\tvalid_1's multi_logloss: 0.358983\n",
      "[800]\ttraining's multi_logloss: 0.244591\tvalid_1's multi_logloss: 0.353623\n",
      "[900]\ttraining's multi_logloss: 0.233551\tvalid_1's multi_logloss: 0.350272\n",
      "[1000]\ttraining's multi_logloss: 0.224485\tvalid_1's multi_logloss: 0.348157\n",
      "[1100]\ttraining's multi_logloss: 0.216195\tvalid_1's multi_logloss: 0.346737\n",
      "[1200]\ttraining's multi_logloss: 0.208327\tvalid_1's multi_logloss: 0.345603\n",
      "[1300]\ttraining's multi_logloss: 0.200845\tvalid_1's multi_logloss: 0.344816\n",
      "[1400]\ttraining's multi_logloss: 0.193586\tvalid_1's multi_logloss: 0.344335\n",
      "[1500]\ttraining's multi_logloss: 0.18633\tvalid_1's multi_logloss: 0.343903\n",
      "[1600]\ttraining's multi_logloss: 0.179564\tvalid_1's multi_logloss: 0.343668\n",
      "[1700]\ttraining's multi_logloss: 0.172969\tvalid_1's multi_logloss: 0.343563\n",
      "[1800]\ttraining's multi_logloss: 0.166089\tvalid_1's multi_logloss: 0.343463\n",
      "[1900]\ttraining's multi_logloss: 0.160003\tvalid_1's multi_logloss: 0.343463\n",
      "Early stopping, best iteration is:\n",
      "[1855]\ttraining's multi_logloss: 0.162641\tvalid_1's multi_logloss: 0.343415\n",
      "Training until validation scores don't improve for 50 rounds\n",
      "[100]\ttraining's multi_logloss: 1.05194\tvalid_1's multi_logloss: 1.08669\n",
      "[200]\ttraining's multi_logloss: 0.612943\tvalid_1's multi_logloss: 0.665607\n",
      "[300]\ttraining's multi_logloss: 0.431546\tvalid_1's multi_logloss: 0.497719\n",
      "[400]\ttraining's multi_logloss: 0.347059\tvalid_1's multi_logloss: 0.42401\n",
      "[500]\ttraining's multi_logloss: 0.302654\tvalid_1's multi_logloss: 0.389336\n",
      "[600]\ttraining's multi_logloss: 0.276055\tvalid_1's multi_logloss: 0.371696\n",
      "[700]\ttraining's multi_logloss: 0.257746\tvalid_1's multi_logloss: 0.362074\n",
      "[800]\ttraining's multi_logloss: 0.244017\tvalid_1's multi_logloss: 0.356481\n",
      "[900]\ttraining's multi_logloss: 0.232932\tvalid_1's multi_logloss: 0.353252\n",
      "[1000]\ttraining's multi_logloss: 0.223633\tvalid_1's multi_logloss: 0.35119\n",
      "[1100]\ttraining's multi_logloss: 0.215302\tvalid_1's multi_logloss: 0.349959\n",
      "[1200]\ttraining's multi_logloss: 0.207205\tvalid_1's multi_logloss: 0.349218\n",
      "[1300]\ttraining's multi_logloss: 0.199921\tvalid_1's multi_logloss: 0.348833\n",
      "[1400]\ttraining's multi_logloss: 0.19237\tvalid_1's multi_logloss: 0.348627\n",
      "[1500]\ttraining's multi_logloss: 0.185384\tvalid_1's multi_logloss: 0.348553\n",
      "Early stopping, best iteration is:\n",
      "[1482]\ttraining's multi_logloss: 0.186677\tvalid_1's multi_logloss: 0.348522\n",
      "Training until validation scores don't improve for 50 rounds\n",
      "[100]\ttraining's multi_logloss: 1.05261\tvalid_1's multi_logloss: 1.07887\n",
      "[200]\ttraining's multi_logloss: 0.613447\tvalid_1's multi_logloss: 0.656032\n",
      "[300]\ttraining's multi_logloss: 0.432038\tvalid_1's multi_logloss: 0.487942\n",
      "[400]\ttraining's multi_logloss: 0.347322\tvalid_1's multi_logloss: 0.414356\n",
      "[500]\ttraining's multi_logloss: 0.303053\tvalid_1's multi_logloss: 0.379967\n",
      "[600]\ttraining's multi_logloss: 0.276405\tvalid_1's multi_logloss: 0.362652\n",
      "[700]\ttraining's multi_logloss: 0.25805\tvalid_1's multi_logloss: 0.353225\n",
      "[800]\ttraining's multi_logloss: 0.244225\tvalid_1's multi_logloss: 0.347744\n",
      "[900]\ttraining's multi_logloss: 0.232997\tvalid_1's multi_logloss: 0.344416\n",
      "[1000]\ttraining's multi_logloss: 0.2238\tvalid_1's multi_logloss: 0.342425\n",
      "[1100]\ttraining's multi_logloss: 0.215583\tvalid_1's multi_logloss: 0.341152\n",
      "[1200]\ttraining's multi_logloss: 0.207626\tvalid_1's multi_logloss: 0.340311\n",
      "[1300]\ttraining's multi_logloss: 0.200367\tvalid_1's multi_logloss: 0.339769\n",
      "[1400]\ttraining's multi_logloss: 0.193062\tvalid_1's multi_logloss: 0.339396\n",
      "[1500]\ttraining's multi_logloss: 0.186039\tvalid_1's multi_logloss: 0.339197\n",
      "[1600]\ttraining's multi_logloss: 0.179224\tvalid_1's multi_logloss: 0.339078\n",
      "[1700]\ttraining's multi_logloss: 0.172515\tvalid_1's multi_logloss: 0.339041\n",
      "Early stopping, best iteration is:\n",
      "[1694]\ttraining's multi_logloss: 0.172946\tvalid_1's multi_logloss: 0.339027\n",
      "Training until validation scores don't improve for 50 rounds\n"
     ]
    },
    {
     "name": "stdout",
     "output_type": "stream",
     "text": [
      "[100]\ttraining's multi_logloss: 1.05158\tvalid_1's multi_logloss: 1.09038\n",
      "[200]\ttraining's multi_logloss: 0.612504\tvalid_1's multi_logloss: 0.672551\n",
      "[300]\ttraining's multi_logloss: 0.431011\tvalid_1's multi_logloss: 0.507331\n",
      "[400]\ttraining's multi_logloss: 0.346274\tvalid_1's multi_logloss: 0.435634\n",
      "[500]\ttraining's multi_logloss: 0.301848\tvalid_1's multi_logloss: 0.402435\n",
      "[600]\ttraining's multi_logloss: 0.275074\tvalid_1's multi_logloss: 0.386061\n",
      "[700]\ttraining's multi_logloss: 0.256645\tvalid_1's multi_logloss: 0.377086\n",
      "[800]\ttraining's multi_logloss: 0.24277\tvalid_1's multi_logloss: 0.371988\n",
      "[900]\ttraining's multi_logloss: 0.231512\tvalid_1's multi_logloss: 0.368848\n",
      "[1000]\ttraining's multi_logloss: 0.222031\tvalid_1's multi_logloss: 0.366927\n",
      "[1100]\ttraining's multi_logloss: 0.213666\tvalid_1's multi_logloss: 0.365834\n",
      "[1200]\ttraining's multi_logloss: 0.205669\tvalid_1's multi_logloss: 0.365087\n",
      "[1300]\ttraining's multi_logloss: 0.197826\tvalid_1's multi_logloss: 0.364601\n",
      "[1400]\ttraining's multi_logloss: 0.190429\tvalid_1's multi_logloss: 0.364448\n",
      "[1500]\ttraining's multi_logloss: 0.183301\tvalid_1's multi_logloss: 0.364413\n",
      "Early stopping, best iteration is:\n",
      "[1471]\ttraining's multi_logloss: 0.185289\tvalid_1's multi_logloss: 0.364342\n",
      "Training until validation scores don't improve for 50 rounds\n",
      "[100]\ttraining's multi_logloss: 1.05209\tvalid_1's multi_logloss: 1.08079\n",
      "[200]\ttraining's multi_logloss: 0.612921\tvalid_1's multi_logloss: 0.659905\n",
      "[300]\ttraining's multi_logloss: 0.431665\tvalid_1's multi_logloss: 0.493421\n",
      "[400]\ttraining's multi_logloss: 0.346996\tvalid_1's multi_logloss: 0.421203\n",
      "[500]\ttraining's multi_logloss: 0.302611\tvalid_1's multi_logloss: 0.387654\n",
      "[600]\ttraining's multi_logloss: 0.276113\tvalid_1's multi_logloss: 0.3707\n",
      "[700]\ttraining's multi_logloss: 0.257949\tvalid_1's multi_logloss: 0.361285\n",
      "[800]\ttraining's multi_logloss: 0.244133\tvalid_1's multi_logloss: 0.35564\n",
      "[900]\ttraining's multi_logloss: 0.232939\tvalid_1's multi_logloss: 0.352185\n",
      "[1000]\ttraining's multi_logloss: 0.223632\tvalid_1's multi_logloss: 0.35008\n",
      "[1100]\ttraining's multi_logloss: 0.21518\tvalid_1's multi_logloss: 0.348792\n",
      "[1200]\ttraining's multi_logloss: 0.20732\tvalid_1's multi_logloss: 0.347979\n",
      "[1300]\ttraining's multi_logloss: 0.199678\tvalid_1's multi_logloss: 0.347634\n",
      "[1400]\ttraining's multi_logloss: 0.192281\tvalid_1's multi_logloss: 0.347351\n",
      "[1500]\ttraining's multi_logloss: 0.185512\tvalid_1's multi_logloss: 0.347227\n",
      "[1600]\ttraining's multi_logloss: 0.178823\tvalid_1's multi_logloss: 0.347142\n",
      "Early stopping, best iteration is:\n",
      "[1559]\ttraining's multi_logloss: 0.181617\tvalid_1's multi_logloss: 0.347098\n",
      "Training until validation scores don't improve for 50 rounds\n",
      "[100]\ttraining's multi_logloss: 1.05204\tvalid_1's multi_logloss: 1.08845\n",
      "[200]\ttraining's multi_logloss: 0.613006\tvalid_1's multi_logloss: 0.667755\n",
      "[300]\ttraining's multi_logloss: 0.431606\tvalid_1's multi_logloss: 0.50035\n",
      "[400]\ttraining's multi_logloss: 0.346917\tvalid_1's multi_logloss: 0.426988\n",
      "[500]\ttraining's multi_logloss: 0.302618\tvalid_1's multi_logloss: 0.392402\n",
      "[600]\ttraining's multi_logloss: 0.275945\tvalid_1's multi_logloss: 0.374982\n",
      "[700]\ttraining's multi_logloss: 0.257621\tvalid_1's multi_logloss: 0.365502\n",
      "[800]\ttraining's multi_logloss: 0.244\tvalid_1's multi_logloss: 0.359937\n",
      "[900]\ttraining's multi_logloss: 0.232711\tvalid_1's multi_logloss: 0.356564\n",
      "[1000]\ttraining's multi_logloss: 0.223615\tvalid_1's multi_logloss: 0.354432\n",
      "[1100]\ttraining's multi_logloss: 0.215379\tvalid_1's multi_logloss: 0.352871\n",
      "[1200]\ttraining's multi_logloss: 0.207491\tvalid_1's multi_logloss: 0.351898\n",
      "[1300]\ttraining's multi_logloss: 0.199794\tvalid_1's multi_logloss: 0.351293\n",
      "[1400]\ttraining's multi_logloss: 0.19231\tvalid_1's multi_logloss: 0.350951\n",
      "[1500]\ttraining's multi_logloss: 0.185246\tvalid_1's multi_logloss: 0.350741\n",
      "Early stopping, best iteration is:\n",
      "[1516]\ttraining's multi_logloss: 0.18413\tvalid_1's multi_logloss: 0.350737\n",
      "Training until validation scores don't improve for 50 rounds\n",
      "[100]\ttraining's multi_logloss: 1.0516\tvalid_1's multi_logloss: 1.08588\n",
      "[200]\ttraining's multi_logloss: 0.612531\tvalid_1's multi_logloss: 0.667967\n",
      "[300]\ttraining's multi_logloss: 0.431048\tvalid_1's multi_logloss: 0.50282\n",
      "[400]\ttraining's multi_logloss: 0.346506\tvalid_1's multi_logloss: 0.431265\n",
      "[500]\ttraining's multi_logloss: 0.302142\tvalid_1's multi_logloss: 0.397684\n",
      "[600]\ttraining's multi_logloss: 0.275631\tvalid_1's multi_logloss: 0.380621\n",
      "[700]\ttraining's multi_logloss: 0.257515\tvalid_1's multi_logloss: 0.371317\n",
      "[800]\ttraining's multi_logloss: 0.243855\tvalid_1's multi_logloss: 0.365803\n",
      "[900]\ttraining's multi_logloss: 0.232791\tvalid_1's multi_logloss: 0.362463\n",
      "[1000]\ttraining's multi_logloss: 0.223563\tvalid_1's multi_logloss: 0.360212\n",
      "[1100]\ttraining's multi_logloss: 0.21527\tvalid_1's multi_logloss: 0.358701\n",
      "[1200]\ttraining's multi_logloss: 0.207262\tvalid_1's multi_logloss: 0.357834\n",
      "[1300]\ttraining's multi_logloss: 0.199493\tvalid_1's multi_logloss: 0.357222\n",
      "[1400]\ttraining's multi_logloss: 0.192132\tvalid_1's multi_logloss: 0.356926\n",
      "[1500]\ttraining's multi_logloss: 0.185145\tvalid_1's multi_logloss: 0.356837\n",
      "Early stopping, best iteration is:\n",
      "[1537]\ttraining's multi_logloss: 0.182592\tvalid_1's multi_logloss: 0.356742\n",
      "Training until validation scores don't improve for 50 rounds\n",
      "[100]\ttraining's multi_logloss: 1.05209\tvalid_1's multi_logloss: 1.08156\n",
      "[200]\ttraining's multi_logloss: 0.613159\tvalid_1's multi_logloss: 0.659722\n",
      "[300]\ttraining's multi_logloss: 0.431842\tvalid_1's multi_logloss: 0.492038\n",
      "[400]\ttraining's multi_logloss: 0.347233\tvalid_1's multi_logloss: 0.418827\n",
      "[500]\ttraining's multi_logloss: 0.302899\tvalid_1's multi_logloss: 0.384579\n",
      "[600]\ttraining's multi_logloss: 0.276338\tvalid_1's multi_logloss: 0.367301\n",
      "[700]\ttraining's multi_logloss: 0.258187\tvalid_1's multi_logloss: 0.357889\n",
      "[800]\ttraining's multi_logloss: 0.244388\tvalid_1's multi_logloss: 0.352415\n",
      "[900]\ttraining's multi_logloss: 0.233156\tvalid_1's multi_logloss: 0.349026\n",
      "[1000]\ttraining's multi_logloss: 0.22404\tvalid_1's multi_logloss: 0.346966\n",
      "[1100]\ttraining's multi_logloss: 0.21566\tvalid_1's multi_logloss: 0.345775\n",
      "[1200]\ttraining's multi_logloss: 0.207881\tvalid_1's multi_logloss: 0.344795\n",
      "[1300]\ttraining's multi_logloss: 0.200252\tvalid_1's multi_logloss: 0.344214\n",
      "[1400]\ttraining's multi_logloss: 0.193224\tvalid_1's multi_logloss: 0.34387\n",
      "[1500]\ttraining's multi_logloss: 0.186364\tvalid_1's multi_logloss: 0.343604\n",
      "[1600]\ttraining's multi_logloss: 0.179732\tvalid_1's multi_logloss: 0.343472\n",
      "[1700]\ttraining's multi_logloss: 0.173115\tvalid_1's multi_logloss: 0.343362\n",
      "Early stopping, best iteration is:\n",
      "[1740]\ttraining's multi_logloss: 0.170356\tvalid_1's multi_logloss: 0.343275\n",
      "Training until validation scores don't improve for 50 rounds\n",
      "[100]\ttraining's multi_logloss: 1.05189\tvalid_1's multi_logloss: 1.088\n",
      "[200]\ttraining's multi_logloss: 0.612928\tvalid_1's multi_logloss: 0.667263\n",
      "[300]\ttraining's multi_logloss: 0.431509\tvalid_1's multi_logloss: 0.499622\n",
      "[400]\ttraining's multi_logloss: 0.346977\tvalid_1's multi_logloss: 0.425982\n",
      "[500]\ttraining's multi_logloss: 0.302569\tvalid_1's multi_logloss: 0.391321\n",
      "[600]\ttraining's multi_logloss: 0.275906\tvalid_1's multi_logloss: 0.373775\n",
      "[700]\ttraining's multi_logloss: 0.25762\tvalid_1's multi_logloss: 0.36414\n",
      "[800]\ttraining's multi_logloss: 0.243706\tvalid_1's multi_logloss: 0.358381\n",
      "[900]\ttraining's multi_logloss: 0.23258\tvalid_1's multi_logloss: 0.35501\n",
      "[1000]\ttraining's multi_logloss: 0.223329\tvalid_1's multi_logloss: 0.352968\n",
      "[1100]\ttraining's multi_logloss: 0.214894\tvalid_1's multi_logloss: 0.351768\n",
      "[1200]\ttraining's multi_logloss: 0.207155\tvalid_1's multi_logloss: 0.351068\n",
      "[1300]\ttraining's multi_logloss: 0.199626\tvalid_1's multi_logloss: 0.350608\n",
      "[1400]\ttraining's multi_logloss: 0.192297\tvalid_1's multi_logloss: 0.350311\n",
      "[1500]\ttraining's multi_logloss: 0.185297\tvalid_1's multi_logloss: 0.350193\n",
      "Early stopping, best iteration is:\n",
      "[1515]\ttraining's multi_logloss: 0.1843\tvalid_1's multi_logloss: 0.350164\n",
      "Training until validation scores don't improve for 50 rounds\n",
      "[100]\ttraining's multi_logloss: 1.05171\tvalid_1's multi_logloss: 1.09188\n",
      "[200]\ttraining's multi_logloss: 0.612594\tvalid_1's multi_logloss: 0.673113\n",
      "[300]\ttraining's multi_logloss: 0.431186\tvalid_1's multi_logloss: 0.507009\n"
     ]
    },
    {
     "name": "stdout",
     "output_type": "stream",
     "text": [
      "[400]\ttraining's multi_logloss: 0.346497\tvalid_1's multi_logloss: 0.434098\n",
      "[500]\ttraining's multi_logloss: 0.302129\tvalid_1's multi_logloss: 0.399713\n",
      "[600]\ttraining's multi_logloss: 0.275573\tvalid_1's multi_logloss: 0.381787\n",
      "[700]\ttraining's multi_logloss: 0.257636\tvalid_1's multi_logloss: 0.371856\n",
      "[800]\ttraining's multi_logloss: 0.243927\tvalid_1's multi_logloss: 0.365916\n",
      "[900]\ttraining's multi_logloss: 0.232721\tvalid_1's multi_logloss: 0.362224\n",
      "[1000]\ttraining's multi_logloss: 0.223509\tvalid_1's multi_logloss: 0.359772\n",
      "[1100]\ttraining's multi_logloss: 0.215194\tvalid_1's multi_logloss: 0.358175\n",
      "[1200]\ttraining's multi_logloss: 0.207292\tvalid_1's multi_logloss: 0.357195\n",
      "[1300]\ttraining's multi_logloss: 0.199876\tvalid_1's multi_logloss: 0.356561\n",
      "[1400]\ttraining's multi_logloss: 0.192267\tvalid_1's multi_logloss: 0.356095\n",
      "[1500]\ttraining's multi_logloss: 0.185094\tvalid_1's multi_logloss: 0.355959\n",
      "[1600]\ttraining's multi_logloss: 0.178266\tvalid_1's multi_logloss: 0.355953\n",
      "Early stopping, best iteration is:\n",
      "[1576]\ttraining's multi_logloss: 0.17996\tvalid_1's multi_logloss: 0.355888\n",
      "Training until validation scores don't improve for 50 rounds\n",
      "[100]\ttraining's multi_logloss: 1.05198\tvalid_1's multi_logloss: 1.08833\n",
      "[200]\ttraining's multi_logloss: 0.612798\tvalid_1's multi_logloss: 0.668328\n",
      "[300]\ttraining's multi_logloss: 0.431323\tvalid_1's multi_logloss: 0.501442\n",
      "[400]\ttraining's multi_logloss: 0.346686\tvalid_1's multi_logloss: 0.428438\n",
      "[500]\ttraining's multi_logloss: 0.30229\tvalid_1's multi_logloss: 0.393955\n",
      "[600]\ttraining's multi_logloss: 0.27571\tvalid_1's multi_logloss: 0.376293\n",
      "[700]\ttraining's multi_logloss: 0.257488\tvalid_1's multi_logloss: 0.366604\n",
      "[800]\ttraining's multi_logloss: 0.243636\tvalid_1's multi_logloss: 0.361066\n",
      "[900]\ttraining's multi_logloss: 0.232544\tvalid_1's multi_logloss: 0.357507\n",
      "[1000]\ttraining's multi_logloss: 0.223306\tvalid_1's multi_logloss: 0.355412\n",
      "[1100]\ttraining's multi_logloss: 0.215048\tvalid_1's multi_logloss: 0.353799\n",
      "[1200]\ttraining's multi_logloss: 0.207206\tvalid_1's multi_logloss: 0.3527\n",
      "[1300]\ttraining's multi_logloss: 0.199809\tvalid_1's multi_logloss: 0.352132\n",
      "[1400]\ttraining's multi_logloss: 0.192438\tvalid_1's multi_logloss: 0.351752\n",
      "[1500]\ttraining's multi_logloss: 0.185379\tvalid_1's multi_logloss: 0.351518\n",
      "[1600]\ttraining's multi_logloss: 0.178545\tvalid_1's multi_logloss: 0.351256\n",
      "[1700]\ttraining's multi_logloss: 0.171644\tvalid_1's multi_logloss: 0.35126\n",
      "Early stopping, best iteration is:\n",
      "[1671]\ttraining's multi_logloss: 0.173633\tvalid_1's multi_logloss: 0.351228\n",
      "Training until validation scores don't improve for 50 rounds\n",
      "[100]\ttraining's multi_logloss: 1.05135\tvalid_1's multi_logloss: 1.09253\n",
      "[200]\ttraining's multi_logloss: 0.612136\tvalid_1's multi_logloss: 0.674761\n",
      "[300]\ttraining's multi_logloss: 0.430685\tvalid_1's multi_logloss: 0.509099\n",
      "[400]\ttraining's multi_logloss: 0.345981\tvalid_1's multi_logloss: 0.437103\n",
      "[500]\ttraining's multi_logloss: 0.301694\tvalid_1's multi_logloss: 0.403327\n",
      "[600]\ttraining's multi_logloss: 0.27509\tvalid_1's multi_logloss: 0.385989\n",
      "[700]\ttraining's multi_logloss: 0.256955\tvalid_1's multi_logloss: 0.376448\n",
      "[800]\ttraining's multi_logloss: 0.243286\tvalid_1's multi_logloss: 0.370871\n",
      "[900]\ttraining's multi_logloss: 0.23224\tvalid_1's multi_logloss: 0.367371\n",
      "[1000]\ttraining's multi_logloss: 0.223196\tvalid_1's multi_logloss: 0.365223\n",
      "[1100]\ttraining's multi_logloss: 0.215099\tvalid_1's multi_logloss: 0.363827\n",
      "[1200]\ttraining's multi_logloss: 0.207362\tvalid_1's multi_logloss: 0.362848\n",
      "[1300]\ttraining's multi_logloss: 0.199852\tvalid_1's multi_logloss: 0.362374\n",
      "[1400]\ttraining's multi_logloss: 0.192651\tvalid_1's multi_logloss: 0.361945\n",
      "[1500]\ttraining's multi_logloss: 0.185455\tvalid_1's multi_logloss: 0.361701\n",
      "[1600]\ttraining's multi_logloss: 0.178508\tvalid_1's multi_logloss: 0.361592\n",
      "[1700]\ttraining's multi_logloss: 0.171678\tvalid_1's multi_logloss: 0.3615\n",
      "Early stopping, best iteration is:\n",
      "[1689]\ttraining's multi_logloss: 0.172485\tvalid_1's multi_logloss: 0.361472\n",
      "Training until validation scores don't improve for 50 rounds\n",
      "[100]\ttraining's multi_logloss: 1.05202\tvalid_1's multi_logloss: 1.07964\n",
      "[200]\ttraining's multi_logloss: 0.61294\tvalid_1's multi_logloss: 0.657993\n",
      "[300]\ttraining's multi_logloss: 0.431568\tvalid_1's multi_logloss: 0.490703\n",
      "[400]\ttraining's multi_logloss: 0.346971\tvalid_1's multi_logloss: 0.417797\n",
      "[500]\ttraining's multi_logloss: 0.302723\tvalid_1's multi_logloss: 0.383838\n",
      "[600]\ttraining's multi_logloss: 0.276178\tvalid_1's multi_logloss: 0.366805\n",
      "[700]\ttraining's multi_logloss: 0.25772\tvalid_1's multi_logloss: 0.357363\n",
      "[800]\ttraining's multi_logloss: 0.243916\tvalid_1's multi_logloss: 0.351705\n",
      "[900]\ttraining's multi_logloss: 0.232655\tvalid_1's multi_logloss: 0.348391\n",
      "[1000]\ttraining's multi_logloss: 0.223309\tvalid_1's multi_logloss: 0.34615\n",
      "[1100]\ttraining's multi_logloss: 0.214793\tvalid_1's multi_logloss: 0.344824\n",
      "[1200]\ttraining's multi_logloss: 0.207041\tvalid_1's multi_logloss: 0.344055\n",
      "[1300]\ttraining's multi_logloss: 0.199141\tvalid_1's multi_logloss: 0.343487\n",
      "[1400]\ttraining's multi_logloss: 0.191726\tvalid_1's multi_logloss: 0.34312\n",
      "[1500]\ttraining's multi_logloss: 0.184409\tvalid_1's multi_logloss: 0.342991\n",
      "[1600]\ttraining's multi_logloss: 0.177509\tvalid_1's multi_logloss: 0.342932\n",
      "Early stopping, best iteration is:\n",
      "[1603]\ttraining's multi_logloss: 0.177251\tvalid_1's multi_logloss: 0.342918\n",
      "Training until validation scores don't improve for 50 rounds\n",
      "[100]\ttraining's multi_logloss: 1.0524\tvalid_1's multi_logloss: 1.0778\n",
      "[200]\ttraining's multi_logloss: 0.613355\tvalid_1's multi_logloss: 0.65658\n",
      "[300]\ttraining's multi_logloss: 0.431823\tvalid_1's multi_logloss: 0.489426\n",
      "[400]\ttraining's multi_logloss: 0.347257\tvalid_1's multi_logloss: 0.416832\n",
      "[500]\ttraining's multi_logloss: 0.30283\tvalid_1's multi_logloss: 0.383052\n",
      "[600]\ttraining's multi_logloss: 0.276285\tvalid_1's multi_logloss: 0.366043\n",
      "[700]\ttraining's multi_logloss: 0.258164\tvalid_1's multi_logloss: 0.356629\n",
      "[800]\ttraining's multi_logloss: 0.244713\tvalid_1's multi_logloss: 0.351307\n",
      "[900]\ttraining's multi_logloss: 0.233707\tvalid_1's multi_logloss: 0.347967\n",
      "[1000]\ttraining's multi_logloss: 0.224482\tvalid_1's multi_logloss: 0.345872\n",
      "[1100]\ttraining's multi_logloss: 0.21616\tvalid_1's multi_logloss: 0.344675\n",
      "[1200]\ttraining's multi_logloss: 0.208554\tvalid_1's multi_logloss: 0.34376\n",
      "[1300]\ttraining's multi_logloss: 0.201163\tvalid_1's multi_logloss: 0.343285\n",
      "[1400]\ttraining's multi_logloss: 0.193795\tvalid_1's multi_logloss: 0.343046\n"
     ]
    }
   ],
   "source": [
    "from sklearn.model_selection import StratifiedKFold\n",
    "\n",
    "kfold = 20\n",
    "kf = StratifiedKFold(n_splits=kfold, shuffle=True, random_state = 42)\n",
    "preds =[]\n",
    "for train_index, test_index in kf.split(train1, y1):\n",
    "    x_train, x_val = train1.iloc[train_index], train1.iloc[test_index]\n",
    "    y_train, y_val = y1.iloc[train_index], y1.iloc[test_index]\n",
    "    \n",
    "    clf = lgb.LGBMClassifier(n_estimators = 10000, max_depth=10, learning_rate=0.009, objective='multiclass',num_class = 19\n",
    "                             ,num_leaves = 1024,random_state=42,metric = 'multi_logloss',boost_from_average = False,\n",
    "                            feature_fraction =0.21815809919426804,bagging_fraction = 0.8055711236002633,lambda_l1 = 0.0029896841778409566,\n",
    "                             lambda_l2 = 0.06905300928232105,min_split_gain = 0.05931126989247223,min_child_weight = 10)\n",
    "    clf.fit(x_train, y_train, eval_set=[(x_train, y_train), (x_val, y_val)],\n",
    "            early_stopping_rounds=50, verbose=100)\n",
    "    \n",
    "    \n",
    "    \n",
    "    # fiberID ==34 인 test_set에 QSO =1로 채워넣음\n",
    "    ps = pd.DataFrame(data=clf.predict_proba(test), index=test.index)\n",
    "    sam = sample_submission.copy()\n",
    "    sam.loc[test1_idx] =ps.loc[test1_idx]\n",
    "    sam.loc[test2_idx] = 0\n",
    "    sam.loc[test2_idx,'QSO'] = 1\n",
    "    \n",
    "\n",
    "    preds.append(sam)"
   ]
  },
  {
   "cell_type": "code",
   "execution_count": null,
   "metadata": {
    "nbpresent": {
     "id": "c8649e7f-7eb6-45ed-b356-1e623b9cffee"
    }
   },
   "outputs": [],
   "source": [
    "pred = sum(preds)/20\n",
    "pred.index = sample_submission.index\n",
    "pred.columns = sample_submission.columns\n",
    "pred.to_csv('LGBM_20_Final.csv', index=True)"
   ]
  },
  {
   "cell_type": "code",
   "execution_count": null,
   "metadata": {
    "nbpresent": {
     "id": "73e688a5-9780-4564-b0c8-e9b4784a351f"
    }
   },
   "outputs": [],
   "source": []
  },
  {
   "cell_type": "code",
   "execution_count": null,
   "metadata": {
    "nbpresent": {
     "id": "7940c6e5-e62d-4f6b-8c8b-aa09140e79ba"
    }
   },
   "outputs": [],
   "source": []
  }
 ],
 "metadata": {
  "kernelspec": {
   "display_name": "Python 3",
   "language": "python",
   "name": "python3"
  },
  "language_info": {
   "codemirror_mode": {
    "name": "ipython",
    "version": 3
   },
   "file_extension": ".py",
   "mimetype": "text/x-python",
   "name": "python",
   "nbconvert_exporter": "python",
   "pygments_lexer": "ipython3",
   "version": "3.7.3"
  }
 },
 "nbformat": 4,
 "nbformat_minor": 2
}
